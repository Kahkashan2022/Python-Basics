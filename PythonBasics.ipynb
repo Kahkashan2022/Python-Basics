{
  "nbformat": 4,
  "nbformat_minor": 0,
  "metadata": {
    "colab": {
      "provenance": []
    },
    "kernelspec": {
      "name": "python3",
      "display_name": "Python 3"
    },
    "language_info": {
      "name": "python"
    }
  },
  "cells": [
    {
      "cell_type": "markdown",
      "source": [
        "#Python Basics\n",
        "\n"
      ],
      "metadata": {
        "id": "B0uErUofID15"
      }
    },
    {
      "cell_type": "markdown",
      "source": [
        "1. What is Python, and why is it popular?\n",
        "   - Python is a high-level, interpreted programming language known for its simplicity and versatility. It's popular because of its easy-to-read syntax, broad range of libraries and frameworks, and strong community support.\n",
        "2. What is an interpreter in Python?\n",
        "   - An interpreter in Python is a program that reads and executes Python code line by line. It translates the high-level Python code into machine code that the computer can understand and execute directly.\n",
        "3. What are pre-defined keywords in Python?\n",
        "   - Predefined keywords in Python are reserved words that have special meanings and cannot be used as identifiers (like variable or function names). They are integral to the language's syntax. Examples include if, else, for, while, class, def, True, False, and return.\n",
        "4. Can keywords be used as variable names?\n",
        "   - No, keywords cannot be used as variable names in Python. They are reserved for specific purposes in the language's syntax.\n",
        "5. What is mutability in Python?\n",
        "   - Mutability in Python refers to whether the value of an object can be changed after it is created.\n",
        "6. Why are lists mutable, but tuples are immutable?\n",
        "   - Lists are mutable for flexibility and dynamic changes, while tuples are immutable for data integrity and efficiency, especially for use as dictionary keys.\n",
        "7. What is the difference between “==” and “is” operators in Python?\n",
        "  - The == operator checks if two objects have the same value, while the is operator checks if two objects refer to the same memory location.\n",
        "8. What are logical operators in Python?\n",
        "  - Logical operators in Python (and, or, not) are used to combine conditional statements and return Boolean values (True or False).\n",
        "9. What is type casting in Python?\n",
        "  - Type casting in Python is the process of converting one data type to another, such as using int(), float(), or str() to change values between types.\n",
        "10. What is the difference between implicit and explicit type casting?\n",
        "  - Implicit type casting is automatically done by Python (e.g., from int to float), while explicit type casting requires the programmer to manually convert types using functions like int(), float(), or str().\n",
        "11. What is the purpose of conditional statements in Python?\n",
        "  - Conditional statements in Python (if, elif, else) are used to execute specific blocks of code based on whether a condition is true or false.\n",
        "12. How does the elif statement work?\n",
        "  - The elif statement in Python allows you to check multiple conditions sequentially, executing the first block of code where the condition evaluates to True.\n",
        "13. What is the difference between for and while loops?\n",
        "  - A for loop iterates over a sequence (like a list or range), while a while loop repeats as long as a specified condition is True.\n",
        "14. Describe a scenario where a while loop is more suitable than a for loop.\n",
        "  - A while loop is more suitable when you don't know the number of iterations in advance and need to repeat until a certain condition is met, such as waiting for user input or a sensor reading.\n",
        "\n",
        "\n",
        "\n",
        "\n",
        "\n",
        "\n",
        "\n",
        "\n",
        "\n",
        "\n",
        "\n",
        "\n",
        "\n",
        "\n",
        "\n",
        "\n",
        "\n",
        "\n",
        "\n",
        "\n",
        "\n",
        "\n",
        "\n",
        "\n",
        "\n",
        "\n",
        "\n",
        "\n",
        "\n",
        "\n",
        "\n",
        "\n",
        "\n",
        "\n",
        "\n",
        "\n",
        "\n",
        "\n",
        "\n",
        "\n",
        "\n"
      ],
      "metadata": {
        "id": "vVutL0V2IBXa"
      }
    },
    {
      "cell_type": "code",
      "source": [
        "# Write a Python program to print \"Hello, World!_\n",
        "print(\"Hello, world\")"
      ],
      "metadata": {
        "colab": {
          "base_uri": "https://localhost:8080/"
        },
        "id": "KLJ3kebyaBHO",
        "outputId": "9f992fec-5a5f-4feb-ac38-d57d3b93c411"
      },
      "execution_count": null,
      "outputs": [
        {
          "output_type": "stream",
          "name": "stdout",
          "text": [
            "Hello, world\n"
          ]
        }
      ]
    },
    {
      "cell_type": "code",
      "source": [
        "# Write a Python program that displays your name and age.\n",
        "name = \"Kahkashan Begum\"\n",
        "age = \"25\"\n",
        "print(\"name:\",name)\n",
        "print(\"age:\" ,age)"
      ],
      "metadata": {
        "colab": {
          "base_uri": "https://localhost:8080/"
        },
        "id": "w0aRl7Vtb5az",
        "outputId": "ee9d8c06-42e6-4097-c0ff-97dfb7ebd3b2"
      },
      "execution_count": null,
      "outputs": [
        {
          "output_type": "stream",
          "name": "stdout",
          "text": [
            "name: Kahkashan Begum\n",
            "age: 25\n"
          ]
        }
      ]
    },
    {
      "cell_type": "code",
      "source": [
        "# Write code to print all the pre-defined keywords in Python using the keyword library.\n",
        "import keyword\n",
        "print(\"Predefined keywords in Python:\", keyword.kwlist)"
      ],
      "metadata": {
        "colab": {
          "base_uri": "https://localhost:8080/"
        },
        "id": "94bPFpmwhfxK",
        "outputId": "e5ba1b2f-766f-493c-c3bf-b423be79eaf5"
      },
      "execution_count": null,
      "outputs": [
        {
          "output_type": "stream",
          "name": "stdout",
          "text": [
            "Predefined keywords in Python: ['False', 'None', 'True', 'and', 'as', 'assert', 'async', 'await', 'break', 'class', 'continue', 'def', 'del', 'elif', 'else', 'except', 'finally', 'for', 'from', 'global', 'if', 'import', 'in', 'is', 'lambda', 'nonlocal', 'not', 'or', 'pass', 'raise', 'return', 'try', 'while', 'with', 'yield']\n"
          ]
        }
      ]
    },
    {
      "cell_type": "code",
      "source": [
        "# Write a program that checks if a given word is a Python keyword.\n",
        "import keyword\n",
        "\n",
        "word = input(\"Enter a word: \")\n",
        "\n",
        "if keyword.iskeyword(word):\n",
        "    print(f\"'{word}' is a Python keyword.\")\n",
        "else:\n",
        "    print(f\"'{word}' is not a Python keyword.\")"
      ],
      "metadata": {
        "id": "_gyLeb8iikUE",
        "colab": {
          "base_uri": "https://localhost:8080/"
        },
        "outputId": "10b7540d-8b94-4a62-98f0-da15fcf15a65"
      },
      "execution_count": 2,
      "outputs": [
        {
          "output_type": "stream",
          "name": "stdout",
          "text": [
            "Enter a word: for\n",
            "'for' is a Python keyword.\n"
          ]
        }
      ]
    },
    {
      "cell_type": "code",
      "source": [
        "# Create a list and tuple in Python, and demonstrate how attempting to change an element works differently for each.\n",
        "my_list = [1, 2, 3]\n",
        "my_list[1] = 42  # Works because lists are mutable\n",
        "print(\"Modified list:\", my_list)\n",
        "\n",
        "# Tuple (immutable)\n",
        "my_tuple = (1, 2, 3)\n",
        "try:\n",
        "    my_tuple[1] = 42  # Error because tuples are immutable\n",
        "except TypeError as e:\n",
        "    print(\"Error:\", e)"
      ],
      "metadata": {
        "colab": {
          "base_uri": "https://localhost:8080/"
        },
        "id": "RyonHVs88jQY",
        "outputId": "32d1922f-615b-428a-a218-d3a1c3177bbb"
      },
      "execution_count": 4,
      "outputs": [
        {
          "output_type": "stream",
          "name": "stdout",
          "text": [
            "Modified list: [1, 42, 3]\n",
            "Error: 'tuple' object does not support item assignment\n"
          ]
        }
      ]
    },
    {
      "cell_type": "code",
      "source": [
        "# Write a function to demonstrate the behavior of mutable and immutable arguments.\n",
        "def modify(mutable, immutable):\n",
        "    mutable.append(4)\n",
        "    immutable += 10\n",
        "\n",
        "my_list = [1, 2, 3]\n",
        "my_int = 5\n",
        "\n",
        "modify(my_list, my_int)\n",
        "\n",
        "print(my_list)\n",
        "print(my_int)"
      ],
      "metadata": {
        "colab": {
          "base_uri": "https://localhost:8080/"
        },
        "id": "iEgk_HQF-mTY",
        "outputId": "364684bb-d2c1-48f9-dfa8-ea44c52978e6"
      },
      "execution_count": 5,
      "outputs": [
        {
          "output_type": "stream",
          "name": "stdout",
          "text": [
            "[1, 2, 3, 4]\n",
            "5\n"
          ]
        }
      ]
    },
    {
      "cell_type": "code",
      "source": [
        "# Write a program to demonstrate the use of logical operators.\n",
        "a = True\n",
        "b = False\n",
        "\n",
        "# Using logical AND\n",
        "print(a and b)\n",
        "\n",
        "# Using logical OR\n",
        "print(a or b)\n",
        "\n",
        "# Using logical NOT\n",
        "print(not a)   #"
      ],
      "metadata": {
        "colab": {
          "base_uri": "https://localhost:8080/"
        },
        "id": "oj1DKkqAAuXn",
        "outputId": "5f611fd6-3f21-431f-d37b-3a67bc4240a1"
      },
      "execution_count": 6,
      "outputs": [
        {
          "output_type": "stream",
          "name": "stdout",
          "text": [
            "False\n",
            "True\n",
            "False\n"
          ]
        }
      ]
    },
    {
      "cell_type": "code",
      "source": [
        "# Write a Python program to convert user input from string to integer, float, and boolean types.\n",
        "user_input = input(\"Enter a value: \")\n",
        "\n",
        "print(int(user_input), float(user_input), bool(user_input))"
      ],
      "metadata": {
        "colab": {
          "base_uri": "https://localhost:8080/"
        },
        "id": "sil6cXw-Bcs7",
        "outputId": "ed1a6edf-34fa-46bf-dff9-e244c13100a6"
      },
      "execution_count": 7,
      "outputs": [
        {
          "output_type": "stream",
          "name": "stdout",
          "text": [
            "Enter a value: 42\n",
            "42 42.0 True\n"
          ]
        }
      ]
    },
    {
      "cell_type": "code",
      "source": [
        "# Write code to demonstrate type casting with list elements0\n",
        "my_list = ['1', '2.5', 'True']\n",
        "\n",
        "# Type casting elements\n",
        "my_list = [int(my_list[0]), float(my_list[1]), bool(my_list[2])]\n",
        "\n",
        "print(my_list)"
      ],
      "metadata": {
        "colab": {
          "base_uri": "https://localhost:8080/"
        },
        "id": "NboUICdHCMw2",
        "outputId": "a0537d22-3a24-40f2-8a47-b247555ba921"
      },
      "execution_count": 8,
      "outputs": [
        {
          "output_type": "stream",
          "name": "stdout",
          "text": [
            "[1, 2.5, True]\n"
          ]
        }
      ]
    },
    {
      "cell_type": "code",
      "source": [
        "# Write a program that checks if a number is positive, negative, or zero.\n",
        "num = float(input(\"Enter a number: \"))\n",
        "\n",
        "if num > 0:\n",
        "    print(\"Positive\")\n",
        "elif num < 0:\n",
        "    print(\"Negative\")\n",
        "else:\n",
        "    print(\"Zero\")"
      ],
      "metadata": {
        "colab": {
          "base_uri": "https://localhost:8080/"
        },
        "id": "1q2l-_sNCo4p",
        "outputId": "7990035c-4f83-443d-e5cb-d1fb121e8439"
      },
      "execution_count": 9,
      "outputs": [
        {
          "output_type": "stream",
          "name": "stdout",
          "text": [
            "Enter a number: -6\n",
            "Negative\n"
          ]
        }
      ]
    },
    {
      "cell_type": "code",
      "source": [
        "#   Write a for loop to print numbers from 1 to 100.\n",
        "for i in range(1, 101):\n",
        "    print(i)"
      ],
      "metadata": {
        "colab": {
          "base_uri": "https://localhost:8080/"
        },
        "id": "cVy1KAWqDR3X",
        "outputId": "4311f155-068a-4895-b248-620d80258e94"
      },
      "execution_count": 10,
      "outputs": [
        {
          "output_type": "stream",
          "name": "stdout",
          "text": [
            "1\n",
            "2\n",
            "3\n",
            "4\n",
            "5\n",
            "6\n",
            "7\n",
            "8\n",
            "9\n",
            "10\n",
            "11\n",
            "12\n",
            "13\n",
            "14\n",
            "15\n",
            "16\n",
            "17\n",
            "18\n",
            "19\n",
            "20\n",
            "21\n",
            "22\n",
            "23\n",
            "24\n",
            "25\n",
            "26\n",
            "27\n",
            "28\n",
            "29\n",
            "30\n",
            "31\n",
            "32\n",
            "33\n",
            "34\n",
            "35\n",
            "36\n",
            "37\n",
            "38\n",
            "39\n",
            "40\n",
            "41\n",
            "42\n",
            "43\n",
            "44\n",
            "45\n",
            "46\n",
            "47\n",
            "48\n",
            "49\n",
            "50\n",
            "51\n",
            "52\n",
            "53\n",
            "54\n",
            "55\n",
            "56\n",
            "57\n",
            "58\n",
            "59\n",
            "60\n",
            "61\n",
            "62\n",
            "63\n",
            "64\n",
            "65\n",
            "66\n",
            "67\n",
            "68\n",
            "69\n",
            "70\n",
            "71\n",
            "72\n",
            "73\n",
            "74\n",
            "75\n",
            "76\n",
            "77\n",
            "78\n",
            "79\n",
            "80\n",
            "81\n",
            "82\n",
            "83\n",
            "84\n",
            "85\n",
            "86\n",
            "87\n",
            "88\n",
            "89\n",
            "90\n",
            "91\n",
            "92\n",
            "93\n",
            "94\n",
            "95\n",
            "96\n",
            "97\n",
            "98\n",
            "99\n",
            "100\n"
          ]
        }
      ]
    },
    {
      "cell_type": "code",
      "source": [
        "# Write a Python program to find the sum of all even numbers between 1 and 50.\n",
        "even_sum = 0\n",
        "for num in range(2, 51, 2):\n",
        "    even_sum += num\n",
        "\n",
        "print(\"Sum of even numbers between 1 and 50:\", even_sum)"
      ],
      "metadata": {
        "colab": {
          "base_uri": "https://localhost:8080/"
        },
        "id": "a8MBJtJnDpmi",
        "outputId": "3ffc2b65-5a37-4da7-ccd6-e25a5c2e3f00"
      },
      "execution_count": 12,
      "outputs": [
        {
          "output_type": "stream",
          "name": "stdout",
          "text": [
            "Sum of even numbers between 1 and 50: 650\n"
          ]
        }
      ]
    },
    {
      "cell_type": "code",
      "source": [
        "# Write a program to reverse a string using a while loop.\n",
        "s = input(\"Enter a string: \")\n",
        "i, reversed_s = len(s) - 1, \"\"\n",
        "while i >= 0:\n",
        "    reversed_s += s[i]\n",
        "    i -= 1\n",
        "print(reversed_s)"
      ],
      "metadata": {
        "colab": {
          "base_uri": "https://localhost:8080/"
        },
        "id": "Sr7ZuwWVEouO",
        "outputId": "f593fe08-280d-4d49-afc5-9ed63094d51f"
      },
      "execution_count": 13,
      "outputs": [
        {
          "output_type": "stream",
          "name": "stdout",
          "text": [
            "Enter a string: Misbah\n",
            "habsiM\n"
          ]
        }
      ]
    },
    {
      "cell_type": "code",
      "source": [
        "# Write a Python program to calculate the factorial of a number provided by the user using a while loop.\n",
        "n = int(input(\"Enter a number: \"))\n",
        "fact, i = 1, n\n",
        "while i > 0:\n",
        "    fact *= i\n",
        "    i -= 1\n",
        "print(fact)"
      ],
      "metadata": {
        "colab": {
          "base_uri": "https://localhost:8080/"
        },
        "id": "Bo-m2fPcFMg2",
        "outputId": "47add17c-1643-4722-9416-2967486e043f"
      },
      "execution_count": 17,
      "outputs": [
        {
          "output_type": "stream",
          "name": "stdout",
          "text": [
            "Enter a number: 10\n",
            "3628800\n"
          ]
        }
      ]
    }
  ]
}